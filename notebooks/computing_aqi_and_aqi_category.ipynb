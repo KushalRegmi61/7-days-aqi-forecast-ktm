{
 "cells": [
  {
   "cell_type": "code",
   "execution_count": 2,
   "id": "3fdc63ac",
   "metadata": {},
   "outputs": [],
   "source": [
    "import pandas as pd\n",
    "import numpy as np\n",
    "import matplotlib.pyplot as plt\n",
    "import seaborn as sns\n",
    "import plotly.express as px\n",
    "import plotly.graph_objects as go\n",
    "import os"
   ]
  },
  {
   "cell_type": "code",
   "execution_count": 3,
   "id": "5d194d20",
   "metadata": {},
   "outputs": [],
   "source": [
    "ktm_data = pd.read_csv('../data/processed/Kathmandu_2025.csv')"
   ]
  },
  {
   "cell_type": "code",
   "execution_count": 4,
   "id": "f475db04",
   "metadata": {},
   "outputs": [],
   "source": [
    "# Convert the 'Date' column to datetime format\n",
    "ktm_data['Date'] = pd.to_datetime(ktm_data['Date'], format='%Y-%m-%d')\n",
    "\n"
   ]
  },
  {
   "cell_type": "code",
   "execution_count": 24,
   "id": "93191b14",
   "metadata": {},
   "outputs": [
    {
     "name": "stdout",
     "output_type": "stream",
     "text": [
      "Date            0.000000\n",
      "dew             0.000000\n",
      "humidity        0.000000\n",
      "pm1            44.035088\n",
      "pm10            2.105263\n",
      "pm25            0.526316\n",
      "pressure        0.000000\n",
      "temperature     0.000000\n",
      "dtype: float64\n"
     ]
    }
   ],
   "source": [
    "# checking for missing values\n",
    "\n",
    "print(ktm_data.isnull().sum() / len(ktm_data) * 100)"
   ]
  },
  {
   "cell_type": "code",
   "execution_count": 334,
   "id": "f6d8adf3",
   "metadata": {},
   "outputs": [
    {
     "data": {
      "text/plain": [
       "Date             0.000000\n",
       "dew             47.708895\n",
       "humidity        22.641509\n",
       "pm1             31.536388\n",
       "pm10            30.997305\n",
       "pm25            22.641509\n",
       "pressure        22.641509\n",
       "temperature     22.641509\n",
       "wind-speed      22.641509\n",
       "aqi_value       22.641509\n",
       "aqi_category     0.000000\n",
       "dtype: float64"
      ]
     },
     "execution_count": 334,
     "metadata": {},
     "output_type": "execute_result"
    }
   ],
   "source": [
    "year_2023.isnull().sum() / len(year_2023) * 100"
   ]
  },
  {
   "cell_type": "markdown",
   "id": "50fe67cb",
   "metadata": {},
   "source": [
    "### Computing the AQI Value using pm10 and pm2.5"
   ]
  },
  {
   "cell_type": "markdown",
   "id": "7dde90c7",
   "metadata": {},
   "source": [
    "### 🌈 AQI Interpretation Table (US EPA Standard)\n",
    "\n",
    "| AQI Range     | Air Quality                      | Color     | Health Implications                                                                 |\n",
    "|---------------|----------------------------------|-----------|--------------------------------------------------------------------------------------|\n",
    "| 0 – 50        | **Good**                         | 🟢 Green  | Air quality is satisfactory. No risk to health.                                     |\n",
    "| 51 – 100      | **Moderate**                     | 🟡 Yellow | Acceptable air quality. Some pollutants may affect very sensitive individuals.       |\n",
    "| 101 – 150     | **Unhealthy for Sensitive Groups** | 🟠 Orange | Sensitive groups (children, elderly, people with respiratory issues) may be affected.|\n",
    "| 151 – 200     | **Unhealthy**                    | 🔴 Red    | Everyone may begin to experience health effects.                                     |\n",
    "| 201 – 300     | **Very Unhealthy**               | 🟣 Purple | Health alert: increased risk of serious effects for everyone.                        |\n",
    "| 301 – 500     | **Hazardous**                    | 🟤 Maroon | Emergency conditions. Entire population is likely to be affected.                    |\n"
   ]
  },
  {
   "cell_type": "code",
   "execution_count": 6,
   "id": "b793d5d6",
   "metadata": {},
   "outputs": [],
   "source": [
    "# Corresponding AQI ranges\n",
    "# (0, 50): Good\n",
    "# (51, 100): Moderate\n",
    "# (101, 150): Unhealthy for Sensitive Groups\n",
    "# (151, 200): Unhealthy\n",
    "# (201, 300): Very Unhealthy\n",
    "# (301, 500): Hazardous\n",
    "aqi_ranges = [\n",
    "    (0, 50),\n",
    "    (51, 100),\n",
    "    (101, 150),\n",
    "    (151, 200),\n",
    "    (201, 300),\n",
    "    (301, 500)\n",
    "]                     "
   ]
  },
  {
   "cell_type": "code",
   "execution_count": 7,
   "id": "a60e0aff",
   "metadata": {},
   "outputs": [],
   "source": [
    "def compute_aqi(data):\n",
    "    \"\"\"\n",
    "    Uses existing AQI values for PM2.5 and PM10, then combines them\n",
    "    by taking the maximum for each day.\n",
    "    \n",
    "    Returns a dictionary with:\n",
    "    - 'date': list of all dates in the original data\n",
    "    - 'aqi_value': list of corresponding AQI values (max of PM2.5 and PM10 AQI)\n",
    "    \"\"\"\n",
    "    dates = []\n",
    "    aqi_values = []\n",
    "\n",
    "    for i in range(len(data['Date'])):\n",
    "        date = data['Date'].iloc[i]\n",
    "        pm25_aqi = data['pm25'].iloc[i] if 'pm25' in data else np.nan\n",
    "        pm10_aqi = data['pm10'].iloc[i] if 'pm10' in data else np.nan\n",
    "\n",
    "        # Take the maximum of the two AQI values\n",
    "        if not np.isnan(pm25_aqi) and not np.isnan(pm10_aqi):\n",
    "            final_aqi = max(pm25_aqi, pm10_aqi)\n",
    "        elif not np.isnan(pm25_aqi):\n",
    "            final_aqi = pm25_aqi\n",
    "        elif not np.isnan(pm10_aqi):\n",
    "            final_aqi = pm10_aqi\n",
    "        else:\n",
    "            final_aqi = np.nan\n",
    "\n",
    "        dates.append(date)\n",
    "        aqi_values.append(final_aqi)\n",
    "\n",
    "    return {\n",
    "        'date': dates,\n",
    "        'aqi_value': aqi_values\n",
    "    }\n"
   ]
  },
  {
   "cell_type": "code",
   "execution_count": 8,
   "id": "cc91a561",
   "metadata": {},
   "outputs": [],
   "source": [
    "def process_aqi_data(data):\n",
    "    \"\"\"\n",
    "    Compute AQI for the given dataset and convert the 'date' column to datetime format.\n",
    "    Returns a DataFrame with AQI values and formatted dates.\n",
    "    \"\"\"\n",
    "    aqi_data = pd.DataFrame(compute_aqi(data))\n",
    "    aqi_data['date'] = pd.to_datetime(aqi_data['date'], format='%Y-%m-%d')\n",
    "    return aqi_data\n",
    "\n",
    "\n"
   ]
  },
  {
   "cell_type": "code",
   "execution_count": 9,
   "id": "e0bfe635",
   "metadata": {},
   "outputs": [],
   "source": [
    "# Process AQI data for all years\n",
    "aqi_2024 = process_aqi_data(ktm_data)\n"
   ]
  },
  {
   "cell_type": "code",
   "execution_count": 10,
   "id": "315e10d6",
   "metadata": {},
   "outputs": [
    {
     "name": "stdout",
     "output_type": "stream",
     "text": [
      "Missing values percentage in AQI 2022:\n",
      " date         0.000000\n",
      "aqi_value    0.526316\n",
      "dtype: float64 \n",
      "\n"
     ]
    }
   ],
   "source": [
    "print(\n",
    "    \"Missing values percentage in AQI 2022:\\n\", aqi_2024.isnull().sum() / len(aqi_2024) * 100, \"\\n\"\n",
    ")"
   ]
  },
  {
   "cell_type": "code",
   "execution_count": 11,
   "id": "4b8dcea9",
   "metadata": {},
   "outputs": [],
   "source": [
    "def merge_aqi_data(year_data, aqi_data):\n",
    "    \"\"\"\n",
    "    Merge AQI data with the yearly data on the 'Date' column.\n",
    "    Drops the redundant 'date' column after merging.\n",
    "    \"\"\"\n",
    "    merged_data = pd.merge(year_data, aqi_data, left_on='Date', right_on='date', how='left')\n",
    "    merged_data.drop(columns=['date'], inplace=True)\n",
    "    return merged_data\n",
    "\n"
   ]
  },
  {
   "cell_type": "code",
   "execution_count": 12,
   "id": "b53a6fd2",
   "metadata": {},
   "outputs": [],
   "source": [
    "# Apply the function to each year\n",
    "year_2024 = merge_aqi_data(ktm_data, aqi_2024)\n",
    "\n"
   ]
  },
  {
   "cell_type": "code",
   "execution_count": 13,
   "id": "582fa9a5",
   "metadata": {},
   "outputs": [],
   "source": [
    "def add_aqi_category(data):\n",
    "    \"\"\"\n",
    "    Add a new column to the dataset indicating the air quality level based on AQI ranges.\n",
    "    \"\"\"\n",
    "    def get_aqi_category(aqi_value):\n",
    "        if aqi_value is None or np.isnan(aqi_value):\n",
    "            return \"Unknown\"\n",
    "        for i, (low, high) in enumerate(aqi_ranges):\n",
    "            if low <= aqi_value <= high:\n",
    "                return [\"Good\", \"Moderate\", \"Unhealthy for Sensitive Groups\", \"Unhealthy\", \"Very Unhealthy\", \"Hazardous\"][i]\n",
    "        return \"Unknown\"\n",
    "\n",
    "    data['aqi_category'] = data['aqi_value'].apply(get_aqi_category)\n",
    "    return data"
   ]
  },
  {
   "cell_type": "code",
   "execution_count": 14,
   "id": "cf38ce7c",
   "metadata": {},
   "outputs": [],
   "source": [
    "year_2024 = add_aqi_category(year_2024)\n",
    "\n"
   ]
  },
  {
   "cell_type": "code",
   "execution_count": 20,
   "id": "41e933a2",
   "metadata": {},
   "outputs": [],
   "source": [
    "def plot_aqi_category_distribution(dataframe, year, output_path='AQI_Categories_2024_Horizontal.png', loc='best', figsize=(12, 6)):\n",
    "    \"\"\"\n",
    "    Plots a horizontal bar chart of AQI categories for a given year.\n",
    "\n",
    "    Parameters:\n",
    "    - dataframe (pd.DataFrame): DataFrame containing at least 'aqi_category' column\n",
    "    - year (int): Year of data (used in the title)\n",
    "    - output_path (str): File path to save the plot\n",
    "    \"\"\"\n",
    "    import matplotlib.pyplot as plt\n",
    "    import seaborn as sns\n",
    "    from matplotlib.patches import Patch\n",
    "    import pandas as pd\n",
    "\n",
    "    # Copy data\n",
    "    year_data = dataframe.copy()\n",
    "\n",
    "    # Total records\n",
    "    total_days = len(year_data)\n",
    "\n",
    "    # AQI Categories full list (in order of severity: bottom to top)\n",
    "    full_aqi_order = ['Good', 'Moderate', \n",
    "                      'Unhealthy for Sensitive Groups', \n",
    "                      'Unhealthy', 'Very Unhealthy', 'Hazardous']\n",
    "\n",
    "    # Reverse order for bottom-to-top plotting\n",
    "    aqi_order = full_aqi_order[::-1]\n",
    "\n",
    "    # Custom AQI color palette\n",
    "    custom_palette = {\n",
    "        'Good': '#00e400',\n",
    "        'Moderate': '#ffff00',\n",
    "        'Unhealthy for Sensitive Groups': '#ff7e00',\n",
    "        'Unhealthy': '#ff0000',\n",
    "        'Very Unhealthy': '#8f3f97',\n",
    "        'Hazardous': '#7e0023'\n",
    "    }\n",
    "\n",
    "    # AQI Ranges for legend\n",
    "    aqi_ranges = {\n",
    "        'Good': '0–50',\n",
    "        'Moderate': '51–100',\n",
    "        'Unhealthy for Sensitive Groups': '101–150',\n",
    "        'Unhealthy': '151–200',\n",
    "        'Very Unhealthy': '201–300',\n",
    "        'Hazardous': '301–500'\n",
    "    }\n",
    "\n",
    "    # Count only present categories\n",
    "    present_counts = year_data['aqi_category'].value_counts()\n",
    "    present_categories = [cat for cat in aqi_order if cat in present_counts.index]\n",
    "\n",
    "    # Filter data to only present categories\n",
    "    year_data = year_data[year_data['aqi_category'].isin(present_categories)]\n",
    "\n",
    "    # Set figure\n",
    "    plt.figure(figsize=figsize)\n",
    "    ax = sns.countplot(data=year_data, y='aqi_category', \n",
    "                       order=present_categories,\n",
    "                       palette={k: custom_palette.get(k, 'gray') for k in present_categories},\n",
    "                       dodge=False,\n",
    "                          hue='aqi_category',\n",
    "                          hue_order=present_categories\n",
    "                       )\n",
    "\n",
    "    # Title and labels\n",
    "    plt.title(f'Distribution of Air Quality Index (AQI) Categories in {year}', \n",
    "              fontsize=16, weight='bold')\n",
    "    plt.xlabel('Number of Days', fontsize=12)\n",
    "    plt.ylabel('Air Quality Category', fontsize=12)\n",
    "\n",
    "    # Custom axis styling\n",
    "    ax.xaxis.grid(True, linestyle='--', linewidth=0.7, alpha=0.6, color='gray')\n",
    "    ax.yaxis.grid(False)\n",
    "\n",
    "    for spine in ['top', 'right']:\n",
    "        ax.spines[spine].set_visible(False)\n",
    "    ax.spines['left'].set_color('gray')\n",
    "    ax.spines['left'].set_linewidth(0.8)\n",
    "    ax.spines['bottom'].set_color('gray')\n",
    "    ax.spines['bottom'].set_linewidth(0.8)\n",
    "\n",
    "    # Annotate bars\n",
    "    for p in ax.patches:\n",
    "        width = p.get_width()\n",
    "        label = f'{int(width)} Days\\n({width / total_days * 100:.1f}%)'\n",
    "        ax.annotate(label, (width + 1, p.get_y() + p.get_height() / 2), \n",
    "                    ha='left', va='center', fontsize=10, color='black')\n",
    "\n",
    "    # Highlight most frequent category\n",
    "    max_count = present_counts.max()\n",
    "    for p in ax.patches:\n",
    "        if p.get_width() == max_count:\n",
    "            p.set_edgecolor('black')\n",
    "            p.set_linewidth(2)\n",
    "\n",
    "    # Custom legend with only present categories\n",
    "    legend_elements = [\n",
    "        Patch(facecolor=custom_palette[cat], edgecolor='black', \n",
    "              label=f\"{cat} ({aqi_ranges[cat]})\")\n",
    "        for cat in present_categories\n",
    "    ]\n",
    "\n",
    "    plt.legend(handles=legend_elements, loc=loc, frameon=True, fontsize=9, title='AQI Categories (AQI Range)')\n",
    "\n",
    "    # Add Total Days as annotation in top-left\n",
    "    plt.gcf().text(0.01, 0.97, f'Total Days Recorded: {total_days}', fontsize=12, weight='bold', color='black')\n",
    "\n",
    "    plt.tight_layout()\n",
    "    plt.savefig(output_path, dpi=300, bbox_inches='tight')\n",
    "    plt.show()\n"
   ]
  },
  {
   "cell_type": "code",
   "execution_count": 23,
   "id": "2cb37327",
   "metadata": {},
   "outputs": [
    {
     "data": {
      "image/png": "[encoded data removed]",
      "text/plain": [
       "<Figure size 1200x600 with 1 Axes>"
      ]
     },
     "metadata": {},
     "output_type": "display_data"
    }
   ],
   "source": [
    "# Plotting the AQI category distribution for 2024\n",
    "plot_aqi_category_distribution(year_2024, year='2024-2025', output_path='../results/images/AQI_Categories_2024_Horizontal.png')"
   ]
  },
  {
   "cell_type": "code",
   "execution_count": 25,
   "id": "5c76b1ca",
   "metadata": {},
   "outputs": [
    {
     "data": {
      "application/vnd.microsoft.datawrangler.viewer.v0+json": {
       "columns": [
        {
         "name": "index",
         "rawType": "int64",
         "type": "integer"
        },
        {
         "name": "Date",
         "rawType": "datetime64[ns]",
         "type": "datetime"
        },
        {
         "name": "dew",
         "rawType": "float64",
         "type": "float"
        },
        {
         "name": "humidity",
         "rawType": "float64",
         "type": "float"
        },
        {
         "name": "pm1",
         "rawType": "float64",
         "type": "float"
        },
        {
         "name": "pm10",
         "rawType": "float64",
         "type": "float"
        },
        {
         "name": "pm25",
         "rawType": "float64",
         "type": "float"
        },
        {
         "name": "pressure",
         "rawType": "float64",
         "type": "float"
        },
        {
         "name": "temperature",
         "rawType": "float64",
         "type": "float"
        },
        {
         "name": "aqi_value",
         "rawType": "float64",
         "type": "float"
        },
        {
         "name": "aqi_category",
         "rawType": "object",
         "type": "string"
        }
       ],
       "ref": "c2cab8f0-9561-46b8-be32-c8153bfc5b50",
       "rows": [
        [
         "0",
         "2024-01-01 00:00:00",
         "7.5",
         "87.0",
         "113.0",
         "61.0",
         "138.0",
         "1020.0",
         "9.5",
         "138.0",
         "Unhealthy for Sensitive Groups"
        ],
        [
         "1",
         "2024-01-02 00:00:00",
         "6.5",
         "81.5",
         "95.0",
         "63.0",
         "116.0",
         "1020.0",
         "10.0",
         "116.0",
         "Unhealthy for Sensitive Groups"
        ],
        [
         "2",
         "2024-01-03 00:00:00",
         "6.0",
         "81.5",
         "109.0",
         "59.0",
         "131.0",
         "1020.0",
         "9.5",
         "131.0",
         "Unhealthy for Sensitive Groups"
        ],
        [
         "3",
         "2024-01-04 00:00:00",
         "5.0",
         "78.0",
         "103.0",
         "66.0",
         "140.0",
         "1020.0",
         "8.8",
         "140.0",
         "Unhealthy for Sensitive Groups"
        ],
        [
         "4",
         "2024-01-05 00:00:00",
         "4.0",
         "76.0",
         "131.0",
         "62.0",
         "140.0",
         "1020.0",
         "9.5",
         "140.0",
         "Unhealthy for Sensitive Groups"
        ]
       ],
       "shape": {
        "columns": 10,
        "rows": 5
       }
      },
      "text/html": [
       "<div>\n",
       "<style scoped>\n",
       "    .dataframe tbody tr th:only-of-type {\n",
       "        vertical-align: middle;\n",
       "    }\n",
       "\n",
       "    .dataframe tbody tr th {\n",
       "        vertical-align: top;\n",
       "    }\n",
       "\n",
       "    .dataframe thead th {\n",
       "        text-align: right;\n",
       "    }\n",
       "</style>\n",
       "<table border=\"1\" class=\"dataframe\">\n",
       "  <thead>\n",
       "    <tr style=\"text-align: right;\">\n",
       "      <th></th>\n",
       "      <th>Date</th>\n",
       "      <th>dew</th>\n",
       "      <th>humidity</th>\n",
       "      <th>pm1</th>\n",
       "      <th>pm10</th>\n",
       "      <th>pm25</th>\n",
       "      <th>pressure</th>\n",
       "      <th>temperature</th>\n",
       "      <th>aqi_value</th>\n",
       "      <th>aqi_category</th>\n",
       "    </tr>\n",
       "  </thead>\n",
       "  <tbody>\n",
       "    <tr>\n",
       "      <th>0</th>\n",
       "      <td>2024-01-01</td>\n",
       "      <td>7.5</td>\n",
       "      <td>87.0</td>\n",
       "      <td>113.0</td>\n",
       "      <td>61.0</td>\n",
       "      <td>138.0</td>\n",
       "      <td>1020.0</td>\n",
       "      <td>9.5</td>\n",
       "      <td>138.0</td>\n",
       "      <td>Unhealthy for Sensitive Groups</td>\n",
       "    </tr>\n",
       "    <tr>\n",
       "      <th>1</th>\n",
       "      <td>2024-01-02</td>\n",
       "      <td>6.5</td>\n",
       "      <td>81.5</td>\n",
       "      <td>95.0</td>\n",
       "      <td>63.0</td>\n",
       "      <td>116.0</td>\n",
       "      <td>1020.0</td>\n",
       "      <td>10.0</td>\n",
       "      <td>116.0</td>\n",
       "      <td>Unhealthy for Sensitive Groups</td>\n",
       "    </tr>\n",
       "    <tr>\n",
       "      <th>2</th>\n",
       "      <td>2024-01-03</td>\n",
       "      <td>6.0</td>\n",
       "      <td>81.5</td>\n",
       "      <td>109.0</td>\n",
       "      <td>59.0</td>\n",
       "      <td>131.0</td>\n",
       "      <td>1020.0</td>\n",
       "      <td>9.5</td>\n",
       "      <td>131.0</td>\n",
       "      <td>Unhealthy for Sensitive Groups</td>\n",
       "    </tr>\n",
       "    <tr>\n",
       "      <th>3</th>\n",
       "      <td>2024-01-04</td>\n",
       "      <td>5.0</td>\n",
       "      <td>78.0</td>\n",
       "      <td>103.0</td>\n",
       "      <td>66.0</td>\n",
       "      <td>140.0</td>\n",
       "      <td>1020.0</td>\n",
       "      <td>8.8</td>\n",
       "      <td>140.0</td>\n",
       "      <td>Unhealthy for Sensitive Groups</td>\n",
       "    </tr>\n",
       "    <tr>\n",
       "      <th>4</th>\n",
       "      <td>2024-01-05</td>\n",
       "      <td>4.0</td>\n",
       "      <td>76.0</td>\n",
       "      <td>131.0</td>\n",
       "      <td>62.0</td>\n",
       "      <td>140.0</td>\n",
       "      <td>1020.0</td>\n",
       "      <td>9.5</td>\n",
       "      <td>140.0</td>\n",
       "      <td>Unhealthy for Sensitive Groups</td>\n",
       "    </tr>\n",
       "  </tbody>\n",
       "</table>\n",
       "</div>"
      ],
      "text/plain": [
       "        Date  dew  humidity    pm1  pm10   pm25  pressure  temperature  \\\n",
       "0 2024-01-01  7.5      87.0  113.0  61.0  138.0    1020.0          9.5   \n",
       "1 2024-01-02  6.5      81.5   95.0  63.0  116.0    1020.0         10.0   \n",
       "2 2024-01-03  6.0      81.5  109.0  59.0  131.0    1020.0          9.5   \n",
       "3 2024-01-04  5.0      78.0  103.0  66.0  140.0    1020.0          8.8   \n",
       "4 2024-01-05  4.0      76.0  131.0  62.0  140.0    1020.0          9.5   \n",
       "\n",
       "   aqi_value                    aqi_category  \n",
       "0      138.0  Unhealthy for Sensitive Groups  \n",
       "1      116.0  Unhealthy for Sensitive Groups  \n",
       "2      131.0  Unhealthy for Sensitive Groups  \n",
       "3      140.0  Unhealthy for Sensitive Groups  \n",
       "4      140.0  Unhealthy for Sensitive Groups  "
      ]
     },
     "execution_count": 25,
     "metadata": {},
     "output_type": "execute_result"
    }
   ],
   "source": [
    "year_2024.head()"
   ]
  },
  {
   "cell_type": "code",
   "execution_count": 26,
   "id": "ac79ca1d",
   "metadata": {},
   "outputs": [
    {
     "name": "stdout",
     "output_type": "stream",
     "text": [
      "Date             0.000000\n",
      "dew              0.000000\n",
      "humidity         0.000000\n",
      "pm1             44.035088\n",
      "pm10             2.105263\n",
      "pm25             0.526316\n",
      "pressure         0.000000\n",
      "temperature      0.000000\n",
      "aqi_value        0.526316\n",
      "aqi_category     0.000000\n",
      "dtype: float64\n"
     ]
    }
   ],
   "source": [
    "print(year_2024.isnull().sum() / len(year_2024) * 100)\n"
   ]
  },
  {
   "cell_type": "code",
   "execution_count": 27,
   "id": "593f1416",
   "metadata": {},
   "outputs": [
    {
     "data": {
      "text/plain": [
       "Index(['Date', 'dew', 'humidity', 'pm1', 'pm10', 'pm25', 'pressure',\n",
       "       'temperature', 'aqi_value', 'aqi_category'],\n",
       "      dtype='object')"
      ]
     },
     "execution_count": 27,
     "metadata": {},
     "output_type": "execute_result"
    }
   ],
   "source": [
    "year_2024.columns"
   ]
  },
  {
   "cell_type": "code",
   "execution_count": 28,
   "id": "48d44b7c",
   "metadata": {},
   "outputs": [],
   "source": [
    "final_data = year_2024.drop(columns=['dew', 'humidity', 'pm1', 'pm10', 'pm25', 'pressure','temperature'], axis=1)"
   ]
  },
  {
   "cell_type": "code",
   "execution_count": 29,
   "id": "a13d5dc3",
   "metadata": {},
   "outputs": [
    {
     "name": "stdout",
     "output_type": "stream",
     "text": [
      "Date            0.000000\n",
      "aqi_value       0.526316\n",
      "aqi_category    0.000000\n",
      "dtype: float64\n"
     ]
    }
   ],
   "source": [
    "print(final_data.isnull().sum() / len(final_data) * 100)\n"
   ]
  },
  {
   "cell_type": "code",
   "execution_count": 30,
   "id": "28d47e51",
   "metadata": {},
   "outputs": [],
   "source": [
    "final_data.to_csv('../data/processed/ktm_clean.csv', index=False)"
   ]
  },
  {
   "cell_type": "code",
   "execution_count": null,
   "id": "c9a21a71",
   "metadata": {},
   "outputs": [],
   "source": []
  }
 ],
 "metadata": {
  "kernelspec": {
   "display_name": ".venv",
   "language": "python",
   "name": "python3"
  },
  "language_info": {
   "codemirror_mode": {
    "name": "ipython",
    "version": 3
   },
   "file_extension": ".py",
   "mimetype": "text/x-python",
   "name": "python",
   "nbconvert_exporter": "python",
   "pygments_lexer": "ipython3",
   "version": "3.13.1"
  }
 },
 "nbformat": 4,
 "nbformat_minor": 5
}
