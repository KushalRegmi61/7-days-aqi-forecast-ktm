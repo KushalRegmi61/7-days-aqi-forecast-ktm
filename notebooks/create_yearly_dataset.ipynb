{
 "cells": [
  {
   "cell_type": "code",
   "execution_count": 1,
   "metadata": {},
   "outputs": [],
   "source": [
    "import pandas as pd\n",
    "import datetime\n"
   ]
  },
  {
   "cell_type": "code",
   "execution_count": 3,
   "metadata": {},
   "outputs": [],
   "source": [
    "raw_data = pd.read_csv('../data/raw/waqi-covid19-airqualitydata-2025.csv', skiprows=4)"
   ]
  },
  {
   "cell_type": "code",
   "execution_count": 4,
   "metadata": {},
   "outputs": [
    {
     "data": {
      "application/vnd.microsoft.datawrangler.viewer.v0+json": {
       "columns": [
        {
         "name": "index",
         "rawType": "int64",
         "type": "integer"
        },
        {
         "name": "Date",
         "rawType": "object",
         "type": "string"
        },
        {
         "name": "Country",
         "rawType": "object",
         "type": "string"
        },
        {
         "name": "City",
         "rawType": "object",
         "type": "string"
        },
        {
         "name": "Specie",
         "rawType": "object",
         "type": "string"
        },
        {
         "name": "count",
         "rawType": "int64",
         "type": "integer"
        },
        {
         "name": "min",
         "rawType": "float64",
         "type": "float"
        },
        {
         "name": "max",
         "rawType": "float64",
         "type": "float"
        },
        {
         "name": "median",
         "rawType": "float64",
         "type": "float"
        },
        {
         "name": "variance",
         "rawType": "float64",
         "type": "float"
        }
       ],
       "ref": "cf027686-0b6c-4790-aca1-867e26f2502c",
       "rows": [
        [
         "0",
         "2024-07-27",
         "CY",
         "Nicosia",
         "co",
         "48",
         "1.3",
         "4.5",
         "3.0",
         "11.5"
        ],
        [
         "1",
         "2025-02-10",
         "CY",
         "Nicosia",
         "co",
         "48",
         "2.2",
         "18.8",
         "4.1",
         "144.33"
        ],
        [
         "2",
         "2025-05-07",
         "CY",
         "Nicosia",
         "co",
         "48",
         "0.4",
         "6.5",
         "1.8",
         "14.62"
        ],
        [
         "3",
         "2025-05-20",
         "CY",
         "Nicosia",
         "co",
         "48",
         "0.8",
         "3.3",
         "2.7",
         "5.66"
        ],
        [
         "4",
         "2025-05-23",
         "CY",
         "Nicosia",
         "co",
         "48",
         "0.6",
         "4.7",
         "1.9",
         "7.71"
        ]
       ],
       "shape": {
        "columns": 9,
        "rows": 5
       }
      },
      "text/html": [
       "<div>\n",
       "<style scoped>\n",
       "    .dataframe tbody tr th:only-of-type {\n",
       "        vertical-align: middle;\n",
       "    }\n",
       "\n",
       "    .dataframe tbody tr th {\n",
       "        vertical-align: top;\n",
       "    }\n",
       "\n",
       "    .dataframe thead th {\n",
       "        text-align: right;\n",
       "    }\n",
       "</style>\n",
       "<table border=\"1\" class=\"dataframe\">\n",
       "  <thead>\n",
       "    <tr style=\"text-align: right;\">\n",
       "      <th></th>\n",
       "      <th>Date</th>\n",
       "      <th>Country</th>\n",
       "      <th>City</th>\n",
       "      <th>Specie</th>\n",
       "      <th>count</th>\n",
       "      <th>min</th>\n",
       "      <th>max</th>\n",
       "      <th>median</th>\n",
       "      <th>variance</th>\n",
       "    </tr>\n",
       "  </thead>\n",
       "  <tbody>\n",
       "    <tr>\n",
       "      <th>0</th>\n",
       "      <td>2024-07-27</td>\n",
       "      <td>CY</td>\n",
       "      <td>Nicosia</td>\n",
       "      <td>co</td>\n",
       "      <td>48</td>\n",
       "      <td>1.3</td>\n",
       "      <td>4.5</td>\n",
       "      <td>3.0</td>\n",
       "      <td>11.50</td>\n",
       "    </tr>\n",
       "    <tr>\n",
       "      <th>1</th>\n",
       "      <td>2025-02-10</td>\n",
       "      <td>CY</td>\n",
       "      <td>Nicosia</td>\n",
       "      <td>co</td>\n",
       "      <td>48</td>\n",
       "      <td>2.2</td>\n",
       "      <td>18.8</td>\n",
       "      <td>4.1</td>\n",
       "      <td>144.33</td>\n",
       "    </tr>\n",
       "    <tr>\n",
       "      <th>2</th>\n",
       "      <td>2025-05-07</td>\n",
       "      <td>CY</td>\n",
       "      <td>Nicosia</td>\n",
       "      <td>co</td>\n",
       "      <td>48</td>\n",
       "      <td>0.4</td>\n",
       "      <td>6.5</td>\n",
       "      <td>1.8</td>\n",
       "      <td>14.62</td>\n",
       "    </tr>\n",
       "    <tr>\n",
       "      <th>3</th>\n",
       "      <td>2025-05-20</td>\n",
       "      <td>CY</td>\n",
       "      <td>Nicosia</td>\n",
       "      <td>co</td>\n",
       "      <td>48</td>\n",
       "      <td>0.8</td>\n",
       "      <td>3.3</td>\n",
       "      <td>2.7</td>\n",
       "      <td>5.66</td>\n",
       "    </tr>\n",
       "    <tr>\n",
       "      <th>4</th>\n",
       "      <td>2025-05-23</td>\n",
       "      <td>CY</td>\n",
       "      <td>Nicosia</td>\n",
       "      <td>co</td>\n",
       "      <td>48</td>\n",
       "      <td>0.6</td>\n",
       "      <td>4.7</td>\n",
       "      <td>1.9</td>\n",
       "      <td>7.71</td>\n",
       "    </tr>\n",
       "  </tbody>\n",
       "</table>\n",
       "</div>"
      ],
      "text/plain": [
       "         Date Country     City Specie  count  min   max  median  variance\n",
       "0  2024-07-27      CY  Nicosia     co     48  1.3   4.5     3.0     11.50\n",
       "1  2025-02-10      CY  Nicosia     co     48  2.2  18.8     4.1    144.33\n",
       "2  2025-05-07      CY  Nicosia     co     48  0.4   6.5     1.8     14.62\n",
       "3  2025-05-20      CY  Nicosia     co     48  0.8   3.3     2.7      5.66\n",
       "4  2025-05-23      CY  Nicosia     co     48  0.6   4.7     1.9      7.71"
      ]
     },
     "execution_count": 4,
     "metadata": {},
     "output_type": "execute_result"
    }
   ],
   "source": [
    "raw_data.head()"
   ]
  },
  {
   "cell_type": "code",
   "execution_count": 5,
   "metadata": {},
   "outputs": [
    {
     "data": {
      "text/plain": [
       "Index(['Date', 'Country', 'City', 'Specie', 'count', 'min', 'max', 'median',\n",
       "       'variance'],\n",
       "      dtype='object')"
      ]
     },
     "execution_count": 5,
     "metadata": {},
     "output_type": "execute_result"
    }
   ],
   "source": [
    "raw_data.columns"
   ]
  },
  {
   "cell_type": "code",
   "execution_count": 8,
   "metadata": {},
   "outputs": [
    {
     "data": {
      "application/vnd.microsoft.datawrangler.viewer.v0+json": {
       "columns": [
        {
         "name": "index",
         "rawType": "int64",
         "type": "integer"
        },
        {
         "name": "Date",
         "rawType": "object",
         "type": "unknown"
        },
        {
         "name": "Country",
         "rawType": "object",
         "type": "string"
        },
        {
         "name": "City",
         "rawType": "object",
         "type": "string"
        },
        {
         "name": "d_e_w",
         "rawType": "float64",
         "type": "float"
        },
        {
         "name": "h_u_m_i_d_i_t_y",
         "rawType": "float64",
         "type": "float"
        },
        {
         "name": "p_m_1",
         "rawType": "float64",
         "type": "float"
        },
        {
         "name": "p_m_1_0",
         "rawType": "float64",
         "type": "float"
        },
        {
         "name": "p_m_2_5",
         "rawType": "float64",
         "type": "float"
        },
        {
         "name": "p_r_e_s_s_u_r_e",
         "rawType": "float64",
         "type": "float"
        },
        {
         "name": "t_e_m_p_e_r_a_t_u_r_e",
         "rawType": "float64",
         "type": "float"
        },
        {
         "name": "w_i_n_d_-_g_u_s_t",
         "rawType": "float64",
         "type": "float"
        },
        {
         "name": "w_i_n_d_-_s_p_e_e_d",
         "rawType": "float64",
         "type": "float"
        }
       ],
       "ref": "dbc1870c-960e-4fba-b365-4cb7f7c545d0",
       "rows": [
        [
         "0",
         "2024-01-01",
         "NP",
         "Kathmandu",
         "7.5",
         "87.0",
         "113.0",
         "61.0",
         "138.0",
         "1020.0",
         "9.5",
         null,
         "1.2"
        ],
        [
         "1",
         "2024-01-02",
         "NP",
         "Kathmandu",
         "6.5",
         "81.5",
         "95.0",
         "63.0",
         "116.0",
         "1020.0",
         "10.0",
         null,
         "1.2"
        ],
        [
         "2",
         "2024-01-03",
         "NP",
         "Kathmandu",
         "6.0",
         "81.5",
         "109.0",
         "59.0",
         "131.0",
         "1020.0",
         "9.5",
         null,
         "1.0"
        ],
        [
         "3",
         "2024-01-04",
         "NP",
         "Kathmandu",
         "5.0",
         "78.0",
         "103.0",
         "66.0",
         "140.0",
         "1020.0",
         "8.8",
         null,
         "1.0"
        ],
        [
         "4",
         "2024-01-05",
         "NP",
         "Kathmandu",
         "4.0",
         "76.0",
         "131.0",
         "62.0",
         "140.0",
         "1020.0",
         "9.5",
         null,
         "1.2"
        ]
       ],
       "shape": {
        "columns": 12,
        "rows": 5
       }
      },
      "text/html": [
       "<div>\n",
       "<style scoped>\n",
       "    .dataframe tbody tr th:only-of-type {\n",
       "        vertical-align: middle;\n",
       "    }\n",
       "\n",
       "    .dataframe tbody tr th {\n",
       "        vertical-align: top;\n",
       "    }\n",
       "\n",
       "    .dataframe thead th {\n",
       "        text-align: right;\n",
       "    }\n",
       "</style>\n",
       "<table border=\"1\" class=\"dataframe\">\n",
       "  <thead>\n",
       "    <tr style=\"text-align: right;\">\n",
       "      <th></th>\n",
       "      <th>Date</th>\n",
       "      <th>Country</th>\n",
       "      <th>City</th>\n",
       "      <th>d_e_w</th>\n",
       "      <th>h_u_m_i_d_i_t_y</th>\n",
       "      <th>p_m_1</th>\n",
       "      <th>p_m_1_0</th>\n",
       "      <th>p_m_2_5</th>\n",
       "      <th>p_r_e_s_s_u_r_e</th>\n",
       "      <th>t_e_m_p_e_r_a_t_u_r_e</th>\n",
       "      <th>w_i_n_d_-_g_u_s_t</th>\n",
       "      <th>w_i_n_d_-_s_p_e_e_d</th>\n",
       "    </tr>\n",
       "  </thead>\n",
       "  <tbody>\n",
       "    <tr>\n",
       "      <th>0</th>\n",
       "      <td>2024-01-01</td>\n",
       "      <td>NP</td>\n",
       "      <td>Kathmandu</td>\n",
       "      <td>7.5</td>\n",
       "      <td>87.0</td>\n",
       "      <td>113.0</td>\n",
       "      <td>61.0</td>\n",
       "      <td>138.0</td>\n",
       "      <td>1020.0</td>\n",
       "      <td>9.5</td>\n",
       "      <td>NaN</td>\n",
       "      <td>1.2</td>\n",
       "    </tr>\n",
       "    <tr>\n",
       "      <th>1</th>\n",
       "      <td>2024-01-02</td>\n",
       "      <td>NP</td>\n",
       "      <td>Kathmandu</td>\n",
       "      <td>6.5</td>\n",
       "      <td>81.5</td>\n",
       "      <td>95.0</td>\n",
       "      <td>63.0</td>\n",
       "      <td>116.0</td>\n",
       "      <td>1020.0</td>\n",
       "      <td>10.0</td>\n",
       "      <td>NaN</td>\n",
       "      <td>1.2</td>\n",
       "    </tr>\n",
       "    <tr>\n",
       "      <th>2</th>\n",
       "      <td>2024-01-03</td>\n",
       "      <td>NP</td>\n",
       "      <td>Kathmandu</td>\n",
       "      <td>6.0</td>\n",
       "      <td>81.5</td>\n",
       "      <td>109.0</td>\n",
       "      <td>59.0</td>\n",
       "      <td>131.0</td>\n",
       "      <td>1020.0</td>\n",
       "      <td>9.5</td>\n",
       "      <td>NaN</td>\n",
       "      <td>1.0</td>\n",
       "    </tr>\n",
       "    <tr>\n",
       "      <th>3</th>\n",
       "      <td>2024-01-04</td>\n",
       "      <td>NP</td>\n",
       "      <td>Kathmandu</td>\n",
       "      <td>5.0</td>\n",
       "      <td>78.0</td>\n",
       "      <td>103.0</td>\n",
       "      <td>66.0</td>\n",
       "      <td>140.0</td>\n",
       "      <td>1020.0</td>\n",
       "      <td>8.8</td>\n",
       "      <td>NaN</td>\n",
       "      <td>1.0</td>\n",
       "    </tr>\n",
       "    <tr>\n",
       "      <th>4</th>\n",
       "      <td>2024-01-05</td>\n",
       "      <td>NP</td>\n",
       "      <td>Kathmandu</td>\n",
       "      <td>4.0</td>\n",
       "      <td>76.0</td>\n",
       "      <td>131.0</td>\n",
       "      <td>62.0</td>\n",
       "      <td>140.0</td>\n",
       "      <td>1020.0</td>\n",
       "      <td>9.5</td>\n",
       "      <td>NaN</td>\n",
       "      <td>1.2</td>\n",
       "    </tr>\n",
       "  </tbody>\n",
       "</table>\n",
       "</div>"
      ],
      "text/plain": [
       "         Date Country       City  d_e_w  h_u_m_i_d_i_t_y  p_m_1  p_m_1_0  \\\n",
       "0  2024-01-01      NP  Kathmandu    7.5             87.0  113.0     61.0   \n",
       "1  2024-01-02      NP  Kathmandu    6.5             81.5   95.0     63.0   \n",
       "2  2024-01-03      NP  Kathmandu    6.0             81.5  109.0     59.0   \n",
       "3  2024-01-04      NP  Kathmandu    5.0             78.0  103.0     66.0   \n",
       "4  2024-01-05      NP  Kathmandu    4.0             76.0  131.0     62.0   \n",
       "\n",
       "   p_m_2_5  p_r_e_s_s_u_r_e  t_e_m_p_e_r_a_t_u_r_e  w_i_n_d_-_g_u_s_t  \\\n",
       "0    138.0           1020.0                    9.5                NaN   \n",
       "1    116.0           1020.0                   10.0                NaN   \n",
       "2    131.0           1020.0                    9.5                NaN   \n",
       "3    140.0           1020.0                    8.8                NaN   \n",
       "4    140.0           1020.0                    9.5                NaN   \n",
       "\n",
       "   w_i_n_d_-_s_p_e_e_d  \n",
       "0                  1.2  \n",
       "1                  1.2  \n",
       "2                  1.0  \n",
       "3                  1.0  \n",
       "4                  1.2  "
      ]
     },
     "execution_count": 8,
     "metadata": {},
     "output_type": "execute_result"
    }
   ],
   "source": [
    "def process_city_data(df):\n",
    "    # Convert 'Date' column to datetime\n",
    "    df.loc[:, 'Date'] = pd.to_datetime(df['Date']).dt.date\n",
    "    \n",
    "    # Get unique cities\n",
    "    cities = df[df['Country'] == 'NP']['City'].unique()\n",
    "    \n",
    "    # Dictionary to store the processed dataframes\n",
    "    city_dataframes = {}\n",
    "    \n",
    "    for city in cities:\n",
    "        city_df = df[df['City'] == city]\n",
    "        \n",
    "        # Pivot the dataframe to create new columns for each specie\n",
    "        city_pivot = city_df.pivot_table(index=['Date', 'Country', 'City'], columns='Specie', values='median', aggfunc='first')\n",
    "        \n",
    "        # Flatten the multi-level columns\n",
    "        city_pivot.columns = ['_'.join(col).strip() for col in city_pivot.columns.values]\n",
    "        \n",
    "        # Reset the index to make 'Date', 'Country', and 'City' columns again\n",
    "        city_pivot.reset_index(inplace=True)\n",
    "        \n",
    "        # Store the processed dataframe in the dictionary\n",
    "        city_dataframes[city] = city_pivot\n",
    "    \n",
    "    return city_dataframes\n",
    "\n",
    "# Process the data for all cities in merged_df\n",
    "city_dataframes = process_city_data(raw_data)\n",
    "\n",
    "# Example: Access the processed dataframe for Kathmandu\n",
    "ktm_city_pivot = city_dataframes['Kathmandu']\n",
    "ktm_city_pivot.head()"
   ]
  },
  {
   "cell_type": "code",
   "execution_count": 9,
   "metadata": {},
   "outputs": [],
   "source": [
    "ktm_city_pivot.sort_values('Date', inplace=True)\n",
    "\n",
    "\n"
   ]
  },
  {
   "cell_type": "code",
   "execution_count": 10,
   "metadata": {},
   "outputs": [
    {
     "data": {
      "text/plain": [
       "DatetimeIndex([], dtype='datetime64[ns]', freq='D')"
      ]
     },
     "execution_count": 10,
     "metadata": {},
     "output_type": "execute_result"
    }
   ],
   "source": [
    "# Convert the 'Date' column to datetime\n",
    "ktm_city_pivot['Date'] = pd.to_datetime(ktm_city_pivot['Date'])\n",
    "\n",
    "# Create a date range from the minimum to the maximum date in the dataframe\n",
    "full_date_range = pd.date_range(start=ktm_city_pivot['Date'].min(), end=ktm_city_pivot['Date'].max())\n",
    "\n",
    "# Find the missing dates by comparing the full date range with the dates in the dataframe\n",
    "missing_dates = full_date_range.difference(ktm_city_pivot['Date'])\n",
    "\n",
    "missing_dates"
   ]
  },
  {
   "cell_type": "code",
   "execution_count": 11,
   "metadata": {},
   "outputs": [
    {
     "data": {
      "application/vnd.microsoft.datawrangler.viewer.v0+json": {
       "columns": [
        {
         "name": "index",
         "rawType": "object",
         "type": "string"
        },
        {
         "name": "0",
         "rawType": "int64",
         "type": "integer"
        }
       ],
       "ref": "e1ebcdb8-d9b5-4d4c-a689-aece26b42a05",
       "rows": [
        [
         "Date",
         "0"
        ],
        [
         "Country",
         "0"
        ],
        [
         "City",
         "0"
        ],
        [
         "d_e_w",
         "130"
        ],
        [
         "h_u_m_i_d_i_t_y",
         "5"
        ],
        [
         "p_m_1",
         "130"
        ],
        [
         "p_m_1_0",
         "124"
        ],
        [
         "p_m_2_5",
         "124"
        ],
        [
         "p_r_e_s_s_u_r_e",
         "130"
        ],
        [
         "t_e_m_p_e_r_a_t_u_r_e",
         "5"
        ],
        [
         "w_i_n_d_-_s_p_e_e_d",
         "6"
        ]
       ],
       "shape": {
        "columns": 1,
        "rows": 11
       }
      },
      "text/plain": [
       "Date                       0\n",
       "Country                    0\n",
       "City                       0\n",
       "d_e_w                    130\n",
       "h_u_m_i_d_i_t_y            5\n",
       "p_m_1                    130\n",
       "p_m_1_0                  124\n",
       "p_m_2_5                  124\n",
       "p_r_e_s_s_u_r_e          130\n",
       "t_e_m_p_e_r_a_t_u_r_e      5\n",
       "w_i_n_d_-_s_p_e_e_d        6\n",
       "dtype: int64"
      ]
     },
     "execution_count": 11,
     "metadata": {},
     "output_type": "execute_result"
    }
   ],
   "source": [
    "pokhara_data = city_dataframes['Pokhara']\n",
    "\n",
    "# Create a date range from the minimum to the maximum date in the dataframe\n",
    "full_date_range = pd.date_range(start=pokhara_data['Date'].min(), end=pokhara_data['Date'].max())\n",
    "\n",
    "# Find the missing dates by comparing the full date range with the dates in the dataframe\n",
    "missing_dates = full_date_range.difference(pokhara_data['Date'])\n",
    "\n",
    "pokhara_data.isna().sum()"
   ]
  },
  {
   "cell_type": "code",
   "execution_count": 12,
   "metadata": {},
   "outputs": [
    {
     "data": {
      "text/plain": [
       "DatetimeIndex(['2024-03-08', '2024-05-27'], dtype='datetime64[ns]', freq=None)"
      ]
     },
     "execution_count": 12,
     "metadata": {},
     "output_type": "execute_result"
    }
   ],
   "source": [
    "Biratnagar_data = city_dataframes['Biratnagar']\n",
    "\n",
    "# Create a date range from the minimum to the maximum date in the dataframe\n",
    "full_date_range = pd.date_range(start=Biratnagar_data['Date'].min(), end=Biratnagar_data['Date'].max())\n",
    "\n",
    "# Find the missing dates by comparing the full date range with the dates in the dataframe\n",
    "missing_dates = full_date_range.difference(Biratnagar_data['Date'])\n",
    "\n",
    "Biratnagar_data.shape\n",
    "\n",
    "missing_dates"
   ]
  },
  {
   "cell_type": "markdown",
   "metadata": {},
   "source": [
    "### Main code to convert and create the yearly dataset\n"
   ]
  },
  {
   "cell_type": "code",
   "execution_count": 15,
   "metadata": {},
   "outputs": [],
   "source": [
    "\n",
    "\n",
    "# Filter data for Nepal\n",
    "nepal_df = raw_data[raw_data['Country'] == 'NP']\n",
    "\n",
    "# Get unique cities in Nepal\n",
    "cities = nepal_df['City'].unique()\n",
    "\n",
    "# Define the date range for the entire year \n",
    "date_range = pd.date_range(start=raw_data['Date'].min(), end=raw_data['Date'].max(), freq='D')\n",
    "\n",
    "# Function to process and save city data\n",
    "def process_and_save_city_data(city_df, city_name):\n",
    "    # Pivot the dataframe to create columns for each specie\n",
    "    city_pivot = city_df.pivot_table(index='Date', columns='Specie', values='median', aggfunc='first')\n",
    "    \n",
    "    # Reindex to include all dates in  and fill missing values\n",
    "    city_pivot = city_pivot.reindex(date_range)\n",
    "    \n",
    "    # Reset index to make 'Date' a column\n",
    "    city_pivot.reset_index(inplace=True)\n",
    "    city_pivot.rename(columns={'index': 'Date'}, inplace=True)\n",
    "    \n",
    "    # Save the processed data to a CSV file\n",
    "    city_pivot.to_csv(f'../data/processed/{city_name}_2025.csv', index=False)\n",
    "    \n",
    "    return pd.DataFrame(city_pivot)\n",
    "\n",
    "# Process and save data for each city\n",
    "for city in cities:\n",
    "    city_df = nepal_df[nepal_df['City'] == city]\n",
    "    process_and_save_city_data(city_df, city)\n"
   ]
  },
  {
   "cell_type": "code",
   "execution_count": 20,
   "metadata": {},
   "outputs": [],
   "source": [
    "df = pd.read_csv('../data/processed/Kathmandu_2025.csv')\n",
    "\n",
    "df.drop(columns=['wind-speed','wind-gust'], inplace=True, axis=1)\n",
    "\n",
    "df.to_csv('../data/processed/Kathmandu_2025.csv', index=False)"
   ]
  },
  {
   "cell_type": "code",
   "execution_count": 21,
   "metadata": {},
   "outputs": [
    {
     "data": {
      "text/plain": [
       "Index(['Date', 'dew', 'humidity', 'pm1', 'pm10', 'pm25', 'pressure',\n",
       "       'temperature'],\n",
       "      dtype='object')"
      ]
     },
     "execution_count": 21,
     "metadata": {},
     "output_type": "execute_result"
    }
   ],
   "source": [
    "df = pd.read_csv('../data/processed/Kathmandu_2025.csv')\n",
    "df.columns"
   ]
  },
  {
   "cell_type": "code",
   "execution_count": null,
   "metadata": {},
   "outputs": [],
   "source": []
  }
 ],
 "metadata": {
  "kernelspec": {
   "display_name": ".venv",
   "language": "python",
   "name": "python3"
  },
  "language_info": {
   "codemirror_mode": {
    "name": "ipython",
    "version": 3
   },
   "file_extension": ".py",
   "mimetype": "text/x-python",
   "name": "python",
   "nbconvert_exporter": "python",
   "pygments_lexer": "ipython3",
   "version": "3.13.1"
  }
 },
 "nbformat": 4,
 "nbformat_minor": 2
}
